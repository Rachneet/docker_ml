{
 "cells": [
  {
   "cell_type": "code",
   "execution_count": 1,
   "metadata": {},
   "outputs": [],
   "source": [
    "import sagemaker  # for built in algos\n",
    "import boto3  # reading s3 buckets from public DNS\n",
    "from sagemaker.amazon.amazon_estimator import get_image_uri\n",
    "from sagemaker.session import s3_input, Session"
   ]
  },
  {
   "cell_type": "code",
   "execution_count": 12,
   "metadata": {},
   "outputs": [
    {
     "name": "stdout",
     "output_type": "stream",
     "text": [
      "us-east-2\n"
     ]
    }
   ],
   "source": [
    "bucket_name = \"s3testapplication\"\n",
    "my_region = boto3.session.Session().region_name\n",
    "print(my_region)"
   ]
  },
  {
   "cell_type": "code",
   "execution_count": 13,
   "metadata": {},
   "outputs": [
    {
     "name": "stdout",
     "output_type": "stream",
     "text": [
      "S3 bucket created\n"
     ]
    }
   ],
   "source": [
    "s3 = boto3.resource('s3')\n",
    "try:\n",
    "    if my_region=='us-east-2':\n",
    "        s3.create_bucket(Bucket=bucket_name)\n",
    "    else: \n",
    "        s3.create_bucket(Bucket=bucket_name, CreateBucketConfiguration={ 'LocationConstraint': my_region })\n",
    "    print('S3 bucket created successfully')\n",
    "except Exception as e:\n",
    "    print(\"S3 error: \", e)"
   ]
  },
  {
   "cell_type": "code",
   "execution_count": 14,
   "metadata": {},
   "outputs": [
    {
     "name": "stdout",
     "output_type": "stream",
     "text": [
      "s3://s3testapplication/built-in-xgb/output\n"
     ]
    }
   ],
   "source": [
    "# set the output path for model output\n",
    "prefix = \"built-in-xgb\"  # just a folder\n",
    "out_path = \"s3://{}/{}/output\".format(bucket_name, prefix)\n",
    "print(out_path)"
   ]
  },
  {
   "cell_type": "code",
   "execution_count": 15,
   "metadata": {},
   "outputs": [
    {
     "name": "stdout",
     "output_type": "stream",
     "text": [
      "Success: downloaded bank_clean.csv.\n",
      "Success: Data loaded into dataframe.\n"
     ]
    }
   ],
   "source": [
    "import pandas as pd\n",
    "import urllib\n",
    "\n",
    "try:\n",
    "    urllib.request.urlretrieve(\"https://d1.awsstatic.com/tmt/build-train-deploy-machine-learning-model-sagemaker/bank_clean.27f01fbbdf43271788427f3682996ae29ceca05d.csv\", \"bank_clean.csv\")\n",
    "    print('Success: downloaded bank_clean.csv.')\n",
    "except Exception as e:\n",
    "    print('Data load error: ',e)\n",
    "\n",
    "try:\n",
    "    model_data = pd.read_csv('./bank_clean.csv',index_col=0)\n",
    "    print('Success: Data loaded into dataframe.')\n",
    "except Exception as e:\n",
    "    print('Data load error: ',e)"
   ]
  },
  {
   "cell_type": "code",
   "execution_count": 16,
   "metadata": {},
   "outputs": [
    {
     "data": {
      "text/html": [
       "<div>\n",
       "<style scoped>\n",
       "    .dataframe tbody tr th:only-of-type {\n",
       "        vertical-align: middle;\n",
       "    }\n",
       "\n",
       "    .dataframe tbody tr th {\n",
       "        vertical-align: top;\n",
       "    }\n",
       "\n",
       "    .dataframe thead th {\n",
       "        text-align: right;\n",
       "    }\n",
       "</style>\n",
       "<table border=\"1\" class=\"dataframe\">\n",
       "  <thead>\n",
       "    <tr style=\"text-align: right;\">\n",
       "      <th></th>\n",
       "      <th>age</th>\n",
       "      <th>campaign</th>\n",
       "      <th>pdays</th>\n",
       "      <th>previous</th>\n",
       "      <th>no_previous_contact</th>\n",
       "      <th>not_working</th>\n",
       "      <th>job_admin.</th>\n",
       "      <th>job_blue-collar</th>\n",
       "      <th>job_entrepreneur</th>\n",
       "      <th>job_housemaid</th>\n",
       "      <th>job_management</th>\n",
       "      <th>job_retired</th>\n",
       "      <th>job_self-employed</th>\n",
       "      <th>job_services</th>\n",
       "      <th>job_student</th>\n",
       "      <th>job_technician</th>\n",
       "      <th>job_unemployed</th>\n",
       "      <th>job_unknown</th>\n",
       "      <th>marital_divorced</th>\n",
       "      <th>marital_married</th>\n",
       "      <th>marital_single</th>\n",
       "      <th>marital_unknown</th>\n",
       "      <th>education_basic.4y</th>\n",
       "      <th>education_basic.6y</th>\n",
       "      <th>education_basic.9y</th>\n",
       "      <th>education_high.school</th>\n",
       "      <th>education_illiterate</th>\n",
       "      <th>education_professional.course</th>\n",
       "      <th>education_university.degree</th>\n",
       "      <th>education_unknown</th>\n",
       "      <th>default_no</th>\n",
       "      <th>default_unknown</th>\n",
       "      <th>default_yes</th>\n",
       "      <th>housing_no</th>\n",
       "      <th>housing_unknown</th>\n",
       "      <th>housing_yes</th>\n",
       "      <th>loan_no</th>\n",
       "      <th>loan_unknown</th>\n",
       "      <th>loan_yes</th>\n",
       "      <th>contact_cellular</th>\n",
       "      <th>contact_telephone</th>\n",
       "      <th>month_apr</th>\n",
       "      <th>month_aug</th>\n",
       "      <th>month_dec</th>\n",
       "      <th>month_jul</th>\n",
       "      <th>month_jun</th>\n",
       "      <th>month_mar</th>\n",
       "      <th>month_may</th>\n",
       "      <th>month_nov</th>\n",
       "      <th>month_oct</th>\n",
       "      <th>month_sep</th>\n",
       "      <th>day_of_week_fri</th>\n",
       "      <th>day_of_week_mon</th>\n",
       "      <th>day_of_week_thu</th>\n",
       "      <th>day_of_week_tue</th>\n",
       "      <th>day_of_week_wed</th>\n",
       "      <th>poutcome_failure</th>\n",
       "      <th>poutcome_nonexistent</th>\n",
       "      <th>poutcome_success</th>\n",
       "      <th>y_no</th>\n",
       "      <th>y_yes</th>\n",
       "    </tr>\n",
       "  </thead>\n",
       "  <tbody>\n",
       "    <tr>\n",
       "      <th>0</th>\n",
       "      <td>56</td>\n",
       "      <td>1</td>\n",
       "      <td>999</td>\n",
       "      <td>0</td>\n",
       "      <td>1</td>\n",
       "      <td>0</td>\n",
       "      <td>0</td>\n",
       "      <td>0</td>\n",
       "      <td>0</td>\n",
       "      <td>1</td>\n",
       "      <td>0</td>\n",
       "      <td>0</td>\n",
       "      <td>0</td>\n",
       "      <td>0</td>\n",
       "      <td>0</td>\n",
       "      <td>0</td>\n",
       "      <td>0</td>\n",
       "      <td>0</td>\n",
       "      <td>0</td>\n",
       "      <td>1</td>\n",
       "      <td>0</td>\n",
       "      <td>0</td>\n",
       "      <td>1</td>\n",
       "      <td>0</td>\n",
       "      <td>0</td>\n",
       "      <td>0</td>\n",
       "      <td>0</td>\n",
       "      <td>0</td>\n",
       "      <td>0</td>\n",
       "      <td>0</td>\n",
       "      <td>1</td>\n",
       "      <td>0</td>\n",
       "      <td>0</td>\n",
       "      <td>1</td>\n",
       "      <td>0</td>\n",
       "      <td>0</td>\n",
       "      <td>1</td>\n",
       "      <td>0</td>\n",
       "      <td>0</td>\n",
       "      <td>0</td>\n",
       "      <td>1</td>\n",
       "      <td>0</td>\n",
       "      <td>0</td>\n",
       "      <td>0</td>\n",
       "      <td>0</td>\n",
       "      <td>0</td>\n",
       "      <td>0</td>\n",
       "      <td>1</td>\n",
       "      <td>0</td>\n",
       "      <td>0</td>\n",
       "      <td>0</td>\n",
       "      <td>0</td>\n",
       "      <td>1</td>\n",
       "      <td>0</td>\n",
       "      <td>0</td>\n",
       "      <td>0</td>\n",
       "      <td>0</td>\n",
       "      <td>1</td>\n",
       "      <td>0</td>\n",
       "      <td>1</td>\n",
       "      <td>0</td>\n",
       "    </tr>\n",
       "    <tr>\n",
       "      <th>1</th>\n",
       "      <td>57</td>\n",
       "      <td>1</td>\n",
       "      <td>999</td>\n",
       "      <td>0</td>\n",
       "      <td>1</td>\n",
       "      <td>0</td>\n",
       "      <td>0</td>\n",
       "      <td>0</td>\n",
       "      <td>0</td>\n",
       "      <td>0</td>\n",
       "      <td>0</td>\n",
       "      <td>0</td>\n",
       "      <td>0</td>\n",
       "      <td>1</td>\n",
       "      <td>0</td>\n",
       "      <td>0</td>\n",
       "      <td>0</td>\n",
       "      <td>0</td>\n",
       "      <td>0</td>\n",
       "      <td>1</td>\n",
       "      <td>0</td>\n",
       "      <td>0</td>\n",
       "      <td>0</td>\n",
       "      <td>0</td>\n",
       "      <td>0</td>\n",
       "      <td>1</td>\n",
       "      <td>0</td>\n",
       "      <td>0</td>\n",
       "      <td>0</td>\n",
       "      <td>0</td>\n",
       "      <td>0</td>\n",
       "      <td>1</td>\n",
       "      <td>0</td>\n",
       "      <td>1</td>\n",
       "      <td>0</td>\n",
       "      <td>0</td>\n",
       "      <td>1</td>\n",
       "      <td>0</td>\n",
       "      <td>0</td>\n",
       "      <td>0</td>\n",
       "      <td>1</td>\n",
       "      <td>0</td>\n",
       "      <td>0</td>\n",
       "      <td>0</td>\n",
       "      <td>0</td>\n",
       "      <td>0</td>\n",
       "      <td>0</td>\n",
       "      <td>1</td>\n",
       "      <td>0</td>\n",
       "      <td>0</td>\n",
       "      <td>0</td>\n",
       "      <td>0</td>\n",
       "      <td>1</td>\n",
       "      <td>0</td>\n",
       "      <td>0</td>\n",
       "      <td>0</td>\n",
       "      <td>0</td>\n",
       "      <td>1</td>\n",
       "      <td>0</td>\n",
       "      <td>1</td>\n",
       "      <td>0</td>\n",
       "    </tr>\n",
       "    <tr>\n",
       "      <th>2</th>\n",
       "      <td>37</td>\n",
       "      <td>1</td>\n",
       "      <td>999</td>\n",
       "      <td>0</td>\n",
       "      <td>1</td>\n",
       "      <td>0</td>\n",
       "      <td>0</td>\n",
       "      <td>0</td>\n",
       "      <td>0</td>\n",
       "      <td>0</td>\n",
       "      <td>0</td>\n",
       "      <td>0</td>\n",
       "      <td>0</td>\n",
       "      <td>1</td>\n",
       "      <td>0</td>\n",
       "      <td>0</td>\n",
       "      <td>0</td>\n",
       "      <td>0</td>\n",
       "      <td>0</td>\n",
       "      <td>1</td>\n",
       "      <td>0</td>\n",
       "      <td>0</td>\n",
       "      <td>0</td>\n",
       "      <td>0</td>\n",
       "      <td>0</td>\n",
       "      <td>1</td>\n",
       "      <td>0</td>\n",
       "      <td>0</td>\n",
       "      <td>0</td>\n",
       "      <td>0</td>\n",
       "      <td>1</td>\n",
       "      <td>0</td>\n",
       "      <td>0</td>\n",
       "      <td>0</td>\n",
       "      <td>0</td>\n",
       "      <td>1</td>\n",
       "      <td>1</td>\n",
       "      <td>0</td>\n",
       "      <td>0</td>\n",
       "      <td>0</td>\n",
       "      <td>1</td>\n",
       "      <td>0</td>\n",
       "      <td>0</td>\n",
       "      <td>0</td>\n",
       "      <td>0</td>\n",
       "      <td>0</td>\n",
       "      <td>0</td>\n",
       "      <td>1</td>\n",
       "      <td>0</td>\n",
       "      <td>0</td>\n",
       "      <td>0</td>\n",
       "      <td>0</td>\n",
       "      <td>1</td>\n",
       "      <td>0</td>\n",
       "      <td>0</td>\n",
       "      <td>0</td>\n",
       "      <td>0</td>\n",
       "      <td>1</td>\n",
       "      <td>0</td>\n",
       "      <td>1</td>\n",
       "      <td>0</td>\n",
       "    </tr>\n",
       "    <tr>\n",
       "      <th>3</th>\n",
       "      <td>40</td>\n",
       "      <td>1</td>\n",
       "      <td>999</td>\n",
       "      <td>0</td>\n",
       "      <td>1</td>\n",
       "      <td>0</td>\n",
       "      <td>1</td>\n",
       "      <td>0</td>\n",
       "      <td>0</td>\n",
       "      <td>0</td>\n",
       "      <td>0</td>\n",
       "      <td>0</td>\n",
       "      <td>0</td>\n",
       "      <td>0</td>\n",
       "      <td>0</td>\n",
       "      <td>0</td>\n",
       "      <td>0</td>\n",
       "      <td>0</td>\n",
       "      <td>0</td>\n",
       "      <td>1</td>\n",
       "      <td>0</td>\n",
       "      <td>0</td>\n",
       "      <td>0</td>\n",
       "      <td>1</td>\n",
       "      <td>0</td>\n",
       "      <td>0</td>\n",
       "      <td>0</td>\n",
       "      <td>0</td>\n",
       "      <td>0</td>\n",
       "      <td>0</td>\n",
       "      <td>1</td>\n",
       "      <td>0</td>\n",
       "      <td>0</td>\n",
       "      <td>1</td>\n",
       "      <td>0</td>\n",
       "      <td>0</td>\n",
       "      <td>1</td>\n",
       "      <td>0</td>\n",
       "      <td>0</td>\n",
       "      <td>0</td>\n",
       "      <td>1</td>\n",
       "      <td>0</td>\n",
       "      <td>0</td>\n",
       "      <td>0</td>\n",
       "      <td>0</td>\n",
       "      <td>0</td>\n",
       "      <td>0</td>\n",
       "      <td>1</td>\n",
       "      <td>0</td>\n",
       "      <td>0</td>\n",
       "      <td>0</td>\n",
       "      <td>0</td>\n",
       "      <td>1</td>\n",
       "      <td>0</td>\n",
       "      <td>0</td>\n",
       "      <td>0</td>\n",
       "      <td>0</td>\n",
       "      <td>1</td>\n",
       "      <td>0</td>\n",
       "      <td>1</td>\n",
       "      <td>0</td>\n",
       "    </tr>\n",
       "    <tr>\n",
       "      <th>4</th>\n",
       "      <td>56</td>\n",
       "      <td>1</td>\n",
       "      <td>999</td>\n",
       "      <td>0</td>\n",
       "      <td>1</td>\n",
       "      <td>0</td>\n",
       "      <td>0</td>\n",
       "      <td>0</td>\n",
       "      <td>0</td>\n",
       "      <td>0</td>\n",
       "      <td>0</td>\n",
       "      <td>0</td>\n",
       "      <td>0</td>\n",
       "      <td>1</td>\n",
       "      <td>0</td>\n",
       "      <td>0</td>\n",
       "      <td>0</td>\n",
       "      <td>0</td>\n",
       "      <td>0</td>\n",
       "      <td>1</td>\n",
       "      <td>0</td>\n",
       "      <td>0</td>\n",
       "      <td>0</td>\n",
       "      <td>0</td>\n",
       "      <td>0</td>\n",
       "      <td>1</td>\n",
       "      <td>0</td>\n",
       "      <td>0</td>\n",
       "      <td>0</td>\n",
       "      <td>0</td>\n",
       "      <td>1</td>\n",
       "      <td>0</td>\n",
       "      <td>0</td>\n",
       "      <td>1</td>\n",
       "      <td>0</td>\n",
       "      <td>0</td>\n",
       "      <td>0</td>\n",
       "      <td>0</td>\n",
       "      <td>1</td>\n",
       "      <td>0</td>\n",
       "      <td>1</td>\n",
       "      <td>0</td>\n",
       "      <td>0</td>\n",
       "      <td>0</td>\n",
       "      <td>0</td>\n",
       "      <td>0</td>\n",
       "      <td>0</td>\n",
       "      <td>1</td>\n",
       "      <td>0</td>\n",
       "      <td>0</td>\n",
       "      <td>0</td>\n",
       "      <td>0</td>\n",
       "      <td>1</td>\n",
       "      <td>0</td>\n",
       "      <td>0</td>\n",
       "      <td>0</td>\n",
       "      <td>0</td>\n",
       "      <td>1</td>\n",
       "      <td>0</td>\n",
       "      <td>1</td>\n",
       "      <td>0</td>\n",
       "    </tr>\n",
       "  </tbody>\n",
       "</table>\n",
       "</div>"
      ],
      "text/plain": [
       "   age  campaign  pdays  ...  poutcome_success  y_no  y_yes\n",
       "0   56         1    999  ...                 0     1      0\n",
       "1   57         1    999  ...                 0     1      0\n",
       "2   37         1    999  ...                 0     1      0\n",
       "3   40         1    999  ...                 0     1      0\n",
       "4   56         1    999  ...                 0     1      0\n",
       "\n",
       "[5 rows x 61 columns]"
      ]
     },
     "execution_count": 16,
     "metadata": {},
     "output_type": "execute_result"
    }
   ],
   "source": [
    "model_data.head()"
   ]
  },
  {
   "cell_type": "code",
   "execution_count": 17,
   "metadata": {},
   "outputs": [
    {
     "data": {
      "text/plain": [
       "(41188, 61)"
      ]
     },
     "execution_count": 17,
     "metadata": {},
     "output_type": "execute_result"
    }
   ],
   "source": [
    "model_data.shape"
   ]
  },
  {
   "cell_type": "code",
   "execution_count": 18,
   "metadata": {},
   "outputs": [
    {
     "name": "stdout",
     "output_type": "stream",
     "text": [
      "(28831, 61) (12357, 61)\n"
     ]
    }
   ],
   "source": [
    "# train test split\n",
    "\n",
    "import numpy as np\n",
    "train_data, test_data = np.split(model_data.sample(frac=1, random_state=4), [int(0.7*model_data.shape[0])])\n",
    "print(train_data.shape, test_data.shape)"
   ]
  },
  {
   "cell_type": "code",
   "execution_count": 23,
   "metadata": {},
   "outputs": [
    {
     "name": "stderr",
     "output_type": "stream",
     "text": [
      "'s3_input' class will be renamed to 'TrainingInput' in SageMaker Python SDK v2.\n"
     ]
    }
   ],
   "source": [
    "# saving train and test set to s3 bucket\n",
    "import os\n",
    "\n",
    "pd.concat([train_data['y_yes'], train_data.drop(['y_no', 'y_yes'], axis=1)], axis=1).to_csv('train.csv', index=False, header=False)\n",
    "boto3.Session().resource('s3').Bucket(bucket_name).Object(os.path.join(prefix, 'train/train.csv')).upload_file('train.csv')\n",
    "s3_input_train = sagemaker.s3_input(s3_data='s3://{}/{}/train'.format(bucket_name, prefix), content_type='csv')"
   ]
  },
  {
   "cell_type": "code",
   "execution_count": 24,
   "metadata": {},
   "outputs": [
    {
     "name": "stderr",
     "output_type": "stream",
     "text": [
      "'s3_input' class will be renamed to 'TrainingInput' in SageMaker Python SDK v2.\n"
     ]
    }
   ],
   "source": [
    "pd.concat([test_data['y_yes'], test_data.drop(['y_no', 'y_yes'], axis=1)], axis=1).to_csv('test.csv', index=False, header=False)\n",
    "boto3.Session().resource('s3').Bucket(bucket_name).Object(os.path.join(prefix, 'test/test.csv')).upload_file('test.csv')\n",
    "s3_input_test = sagemaker.s3_input(s3_data='s3://{}/{}/test'.format(bucket_name, prefix), content_type='csv')"
   ]
  },
  {
   "cell_type": "markdown",
   "metadata": {},
   "source": [
    "Built in XGBoost"
   ]
  },
  {
   "cell_type": "code",
   "execution_count": 25,
   "metadata": {},
   "outputs": [
    {
     "name": "stderr",
     "output_type": "stream",
     "text": [
      "'get_image_uri' method will be deprecated in favor of 'ImageURIProvider' class in SageMaker Python SDK v2.\n"
     ]
    }
   ],
   "source": [
    "# models present in containers\n",
    "container = get_image_uri(boto3.Session().region_name,\n",
    "                         'xgboost',\n",
    "                         repo_version='1.0-1')"
   ]
  },
  {
   "cell_type": "code",
   "execution_count": 29,
   "metadata": {},
   "outputs": [],
   "source": [
    "# initialize hyperparams\n",
    "hyperparameters = {\n",
    "    'max_depth':'5',\n",
    "    'eta':'0.2',\n",
    "    'gamma':'4',\n",
    "    'min_child_weight':'6',\n",
    "    'subsample':'0.8',\n",
    "    'silent':'0',\n",
    "    'objective':'binary:logistic',\n",
    "    'num_round':'100'\n",
    "}"
   ]
  },
  {
   "cell_type": "code",
   "execution_count": 30,
   "metadata": {},
   "outputs": [
    {
     "name": "stderr",
     "output_type": "stream",
     "text": [
      "Parameter image_name will be renamed to image_uri in SageMaker Python SDK v2.\n"
     ]
    }
   ],
   "source": [
    "# construct a sagemaker estimator that calls the xgb container\n",
    "estimator = sagemaker.estimator.Estimator(image_name=container,\n",
    "                                         hyperparameters=hyperparameters,\n",
    "                                         role=sagemaker.get_execution_role(),\n",
    "                                         train_instance_count=1,\n",
    "                                          train_instance_type='ml.m5.2xlarge',\n",
    "                                          train_volume_size=5,\n",
    "                                          output_path=out_path,\n",
    "                                          train_use_spot_instances=True,\n",
    "                                          train_max_run=300,\n",
    "                                          train_max_wait=600\n",
    "                                         )"
   ]
  },
  {
   "cell_type": "code",
   "execution_count": 31,
   "metadata": {},
   "outputs": [
    {
     "name": "stdout",
     "output_type": "stream",
     "text": [
      "2020-09-18 12:10:30 Starting - Starting the training job...\n",
      "2020-09-18 12:10:33 Starting - Launching requested ML instances......\n",
      "2020-09-18 12:11:38 Starting - Preparing the instances for training...\n",
      "2020-09-18 12:12:23 Downloading - Downloading input data...\n",
      "2020-09-18 12:12:52 Training - Downloading the training image..\u001b[34mINFO:sagemaker-containers:Imported framework sagemaker_xgboost_container.training\u001b[0m\n",
      "\u001b[34mINFO:sagemaker-containers:Failed to parse hyperparameter objective value binary:logistic to Json.\u001b[0m\n",
      "\u001b[34mReturning the value itself\u001b[0m\n",
      "\u001b[34mINFO:sagemaker-containers:No GPUs detected (normal if no gpus installed)\u001b[0m\n",
      "\u001b[34mINFO:sagemaker_xgboost_container.training:Running XGBoost Sagemaker in algorithm mode\u001b[0m\n",
      "\u001b[34mINFO:root:Determined delimiter of CSV input is ','\u001b[0m\n",
      "\u001b[34mINFO:root:Determined delimiter of CSV input is ','\u001b[0m\n",
      "\u001b[34mINFO:root:Determined delimiter of CSV input is ','\u001b[0m\n",
      "\u001b[34m[12:13:09] 28831x59 matrix with 1701029 entries loaded from /opt/ml/input/data/train?format=csv&label_column=0&delimiter=,\u001b[0m\n",
      "\u001b[34mINFO:root:Determined delimiter of CSV input is ','\u001b[0m\n",
      "\u001b[34m[12:13:09] 12357x59 matrix with 729063 entries loaded from /opt/ml/input/data/validation?format=csv&label_column=0&delimiter=,\u001b[0m\n",
      "\u001b[34mINFO:root:Single node training.\u001b[0m\n",
      "\u001b[34mINFO:root:Train matrix has 28831 rows\u001b[0m\n",
      "\u001b[34mINFO:root:Validation matrix has 12357 rows\u001b[0m\n",
      "\u001b[34m[12:13:09] WARNING: /workspace/src/learner.cc:328: \u001b[0m\n",
      "\u001b[34mParameters: { num_round, silent } might not be used.\n",
      "\n",
      "  This may not be accurate due to some parameters are only used in language bindings but\n",
      "  passed down to XGBoost core.  Or some parameters are not used but slip through this\n",
      "  verification. Please open an issue if you find above cases.\n",
      "\n",
      "\u001b[0m\n",
      "\u001b[34m[0]#011train-error:0.10180#011validation-error:0.10043\u001b[0m\n",
      "\u001b[34m[1]#011train-error:0.10166#011validation-error:0.10067\u001b[0m\n",
      "\u001b[34m[2]#011train-error:0.10173#011validation-error:0.10019\u001b[0m\n",
      "\u001b[34m[3]#011train-error:0.10132#011validation-error:0.10100\u001b[0m\n",
      "\u001b[34m[4]#011train-error:0.10104#011validation-error:0.10083\u001b[0m\n",
      "\u001b[34m[5]#011train-error:0.10111#011validation-error:0.10051\u001b[0m\n",
      "\u001b[34m[6]#011train-error:0.10076#011validation-error:0.10116\u001b[0m\n",
      "\u001b[34m[7]#011train-error:0.10104#011validation-error:0.10116\u001b[0m\n",
      "\u001b[34m[8]#011train-error:0.10045#011validation-error:0.10124\u001b[0m\n",
      "\u001b[34m[9]#011train-error:0.10052#011validation-error:0.10108\u001b[0m\n",
      "\u001b[34m[10]#011train-error:0.10038#011validation-error:0.10091\u001b[0m\n",
      "\u001b[34m[11]#011train-error:0.10038#011validation-error:0.10148\u001b[0m\n",
      "\u001b[34m[12]#011train-error:0.10041#011validation-error:0.10140\u001b[0m\n",
      "\u001b[34m[13]#011train-error:0.10000#011validation-error:0.10148\u001b[0m\n",
      "\u001b[34m[14]#011train-error:0.10038#011validation-error:0.10140\u001b[0m\n",
      "\u001b[34m[15]#011train-error:0.10007#011validation-error:0.10172\u001b[0m\n",
      "\u001b[34m[16]#011train-error:0.09986#011validation-error:0.10116\u001b[0m\n",
      "\u001b[34m[17]#011train-error:0.09972#011validation-error:0.10132\u001b[0m\n",
      "\u001b[34m[18]#011train-error:0.09961#011validation-error:0.10140\u001b[0m\n",
      "\u001b[34m[19]#011train-error:0.09975#011validation-error:0.10108\u001b[0m\n",
      "\u001b[34m[20]#011train-error:0.09951#011validation-error:0.10075\u001b[0m\n",
      "\u001b[34m[21]#011train-error:0.09948#011validation-error:0.10108\u001b[0m\n",
      "\u001b[34m[22]#011train-error:0.09951#011validation-error:0.10091\u001b[0m\n",
      "\u001b[34m[23]#011train-error:0.09965#011validation-error:0.10075\u001b[0m\n",
      "\u001b[34m[24]#011train-error:0.09958#011validation-error:0.10116\u001b[0m\n",
      "\u001b[34m[25]#011train-error:0.09930#011validation-error:0.10140\u001b[0m\n",
      "\u001b[34m[26]#011train-error:0.09930#011validation-error:0.10164\u001b[0m\n",
      "\u001b[34m[27]#011train-error:0.09913#011validation-error:0.10132\u001b[0m\n",
      "\u001b[34m[28]#011train-error:0.09906#011validation-error:0.10108\u001b[0m\n",
      "\u001b[34m[29]#011train-error:0.09864#011validation-error:0.10116\u001b[0m\n",
      "\u001b[34m[30]#011train-error:0.09878#011validation-error:0.10140\u001b[0m\n",
      "\u001b[34m[31]#011train-error:0.09857#011validation-error:0.10108\u001b[0m\n",
      "\u001b[34m[32]#011train-error:0.09871#011validation-error:0.10132\u001b[0m\n",
      "\u001b[34m[33]#011train-error:0.09871#011validation-error:0.10140\u001b[0m\n",
      "\u001b[34m[34]#011train-error:0.09840#011validation-error:0.10116\u001b[0m\n",
      "\u001b[34m[35]#011train-error:0.09826#011validation-error:0.10148\u001b[0m\n",
      "\u001b[34m[36]#011train-error:0.09830#011validation-error:0.10164\u001b[0m\n",
      "\u001b[34m[37]#011train-error:0.09833#011validation-error:0.10172\u001b[0m\n",
      "\u001b[34m[38]#011train-error:0.09844#011validation-error:0.10156\u001b[0m\n",
      "\u001b[34m[39]#011train-error:0.09837#011validation-error:0.10156\u001b[0m\n",
      "\u001b[34m[40]#011train-error:0.09840#011validation-error:0.10116\u001b[0m\n",
      "\u001b[34m[41]#011train-error:0.09833#011validation-error:0.10108\u001b[0m\n",
      "\u001b[34m[42]#011train-error:0.09823#011validation-error:0.10100\u001b[0m\n",
      "\u001b[34m[43]#011train-error:0.09819#011validation-error:0.10075\u001b[0m\n",
      "\u001b[34m[44]#011train-error:0.09795#011validation-error:0.10091\u001b[0m\n",
      "\u001b[34m[45]#011train-error:0.09795#011validation-error:0.10091\u001b[0m\n",
      "\u001b[34m[46]#011train-error:0.09778#011validation-error:0.10116\u001b[0m\n",
      "\u001b[34m[47]#011train-error:0.09760#011validation-error:0.10108\u001b[0m\n",
      "\u001b[34m[48]#011train-error:0.09767#011validation-error:0.10148\u001b[0m\n",
      "\u001b[34m[49]#011train-error:0.09764#011validation-error:0.10181\u001b[0m\n",
      "\u001b[34m[50]#011train-error:0.09767#011validation-error:0.10148\u001b[0m\n",
      "\u001b[34m[51]#011train-error:0.09753#011validation-error:0.10148\u001b[0m\n",
      "\u001b[34m[52]#011train-error:0.09739#011validation-error:0.10156\u001b[0m\n",
      "\u001b[34m[53]#011train-error:0.09722#011validation-error:0.10156\u001b[0m\n",
      "\u001b[34m[54]#011train-error:0.09729#011validation-error:0.10148\u001b[0m\n",
      "\u001b[34m[55]#011train-error:0.09753#011validation-error:0.10164\u001b[0m\n",
      "\u001b[34m[56]#011train-error:0.09764#011validation-error:0.10189\u001b[0m\n",
      "\u001b[34m[57]#011train-error:0.09729#011validation-error:0.10164\u001b[0m\n",
      "\u001b[34m[58]#011train-error:0.09733#011validation-error:0.10164\u001b[0m\n",
      "\u001b[34m[59]#011train-error:0.09698#011validation-error:0.10156\u001b[0m\n",
      "\u001b[34m[60]#011train-error:0.09705#011validation-error:0.10156\u001b[0m\n",
      "\u001b[34m[61]#011train-error:0.09694#011validation-error:0.10156\u001b[0m\n",
      "\u001b[34m[62]#011train-error:0.09691#011validation-error:0.10140\u001b[0m\n",
      "\u001b[34m[63]#011train-error:0.09674#011validation-error:0.10172\u001b[0m\n",
      "\u001b[34m[64]#011train-error:0.09677#011validation-error:0.10197\u001b[0m\n",
      "\u001b[34m[65]#011train-error:0.09670#011validation-error:0.10189\u001b[0m\n",
      "\u001b[34m[66]#011train-error:0.09642#011validation-error:0.10140\u001b[0m\n",
      "\u001b[34m[67]#011train-error:0.09649#011validation-error:0.10124\u001b[0m\n",
      "\u001b[34m[68]#011train-error:0.09653#011validation-error:0.10108\u001b[0m\n",
      "\u001b[34m[69]#011train-error:0.09646#011validation-error:0.10116\u001b[0m\n",
      "\u001b[34m[70]#011train-error:0.09656#011validation-error:0.10091\u001b[0m\n",
      "\u001b[34m[71]#011train-error:0.09670#011validation-error:0.10100\u001b[0m\n",
      "\u001b[34m[72]#011train-error:0.09628#011validation-error:0.10100\u001b[0m\n",
      "\u001b[34m[73]#011train-error:0.09622#011validation-error:0.10116\u001b[0m\n",
      "\u001b[34m[74]#011train-error:0.09622#011validation-error:0.10116\u001b[0m\n",
      "\u001b[34m[75]#011train-error:0.09635#011validation-error:0.10132\u001b[0m\n",
      "\u001b[34m[76]#011train-error:0.09649#011validation-error:0.10116\u001b[0m\n",
      "\u001b[34m[77]#011train-error:0.09656#011validation-error:0.10108\u001b[0m\n",
      "\u001b[34m[78]#011train-error:0.09660#011validation-error:0.10100\u001b[0m\n",
      "\u001b[34m[79]#011train-error:0.09670#011validation-error:0.10100\u001b[0m\n",
      "\u001b[34m[80]#011train-error:0.09635#011validation-error:0.10116\u001b[0m\n",
      "\u001b[34m[81]#011train-error:0.09639#011validation-error:0.10132\u001b[0m\n",
      "\u001b[34m[82]#011train-error:0.09632#011validation-error:0.10140\u001b[0m\n",
      "\u001b[34m[83]#011train-error:0.09639#011validation-error:0.10148\u001b[0m\n",
      "\u001b[34m[84]#011train-error:0.09608#011validation-error:0.10132\u001b[0m\n",
      "\u001b[34m[85]#011train-error:0.09618#011validation-error:0.10124\u001b[0m\n",
      "\u001b[34m[86]#011train-error:0.09601#011validation-error:0.10164\u001b[0m\n",
      "\u001b[34m[87]#011train-error:0.09601#011validation-error:0.10156\u001b[0m\n",
      "\u001b[34m[88]#011train-error:0.09604#011validation-error:0.10156\u001b[0m\n",
      "\u001b[34m[89]#011train-error:0.09597#011validation-error:0.10156\u001b[0m\n",
      "\u001b[34m[90]#011train-error:0.09587#011validation-error:0.10140\u001b[0m\n",
      "\u001b[34m[91]#011train-error:0.09577#011validation-error:0.10140\u001b[0m\n",
      "\u001b[34m[92]#011train-error:0.09583#011validation-error:0.10164\u001b[0m\n",
      "\u001b[34m[93]#011train-error:0.09563#011validation-error:0.10205\u001b[0m\n",
      "\u001b[34m[94]#011train-error:0.09563#011validation-error:0.10189\u001b[0m\n",
      "\u001b[34m[95]#011train-error:0.09577#011validation-error:0.10205\u001b[0m\n",
      "\u001b[34m[96]#011train-error:0.09559#011validation-error:0.10221\u001b[0m\n",
      "\u001b[34m[97]#011train-error:0.09563#011validation-error:0.10189\u001b[0m\n",
      "\u001b[34m[98]#011train-error:0.09563#011validation-error:0.10189\u001b[0m\n",
      "\u001b[34m[99]#011train-error:0.09570#011validation-error:0.10197\u001b[0m\n",
      "\n",
      "2020-09-18 12:13:19 Uploading - Uploading generated training model\n",
      "2020-09-18 12:13:19 Completed - Training job completed\n",
      "Training seconds: 56\n",
      "Billable seconds: 13\n",
      "Managed Spot Training savings: 76.8%\n"
     ]
    }
   ],
   "source": [
    "estimator.fit({'train':s3_input_train, 'validation':s3_input_test})"
   ]
  },
  {
   "cell_type": "code",
   "execution_count": 32,
   "metadata": {},
   "outputs": [
    {
     "name": "stderr",
     "output_type": "stream",
     "text": [
      "Parameter image will be renamed to image_uri in SageMaker Python SDK v2.\n"
     ]
    },
    {
     "name": "stdout",
     "output_type": "stream",
     "text": [
      "---------------!"
     ]
    }
   ],
   "source": [
    "xgb_predictor = estimator.deploy(initial_instance_count=1, instance_type='ml.m4.xlarge')"
   ]
  },
  {
   "cell_type": "code",
   "execution_count": 33,
   "metadata": {},
   "outputs": [
    {
     "name": "stdout",
     "output_type": "stream",
     "text": [
      "(12357,)\n"
     ]
    }
   ],
   "source": [
    "from sagemaker.predictor import csv_serializer\n",
    "test_data_array = test_data.drop(['y_no','y_yes'], axis=1).values\n",
    "xgb_predictor.content_type = 'text/csv'\n",
    "xgb_predictor.serializer = csv_serializer\n",
    "predictions = xgb_predictor.predict(test_data_array).decode('utf-8')\n",
    "predictions_array = np.fromstring(predictions[1:], sep=',')\n",
    "print(predictions_array.shape)"
   ]
  },
  {
   "cell_type": "code",
   "execution_count": 34,
   "metadata": {},
   "outputs": [
    {
     "name": "stdout",
     "output_type": "stream",
     "text": [
      "\n",
      "Overall Classification Rate: 89.8%\n",
      "\n",
      "Predicted      No Purchase    Purchase\n",
      "Observed\n",
      "No Purchase    91% (10793)    38% (190)\n",
      "Purchase        9% (1070)     62% (304) \n",
      "\n"
     ]
    }
   ],
   "source": [
    "# perfromance metrics\n",
    "cm = pd.crosstab(index=test_data['y_yes'], columns=np.round(predictions_array), rownames=['Observed'], colnames=['Predicted'])\n",
    "tn = cm.iloc[0,0]; fn = cm.iloc[1,0]; tp = cm.iloc[1,1]; fp = cm.iloc[0,1]; p = (tp+tn)/(tp+tn+fp+fn)*100\n",
    "print(\"\\n{0:<20}{1:<4.1f}%\\n\".format(\"Overall Classification Rate: \", p))\n",
    "print(\"{0:<15}{1:<15}{2:>8}\".format(\"Predicted\", \"No Purchase\", \"Purchase\"))\n",
    "print(\"Observed\")\n",
    "print(\"{0:<15}{1:<2.0f}% ({2:<}){3:>6.0f}% ({4:<})\".format(\"No Purchase\", tn/(tn+fn)*100,tn, fp/(tp+fp)*100, fp))\n",
    "print(\"{0:<16}{1:<1.0f}% ({2:<}){3:>7.0f}% ({4:<}) \\n\".format(\"Purchase\", fn/(tn+fn)*100,fn, tp/(tp+fp)*100, tp))"
   ]
  },
  {
   "cell_type": "code",
   "execution_count": 35,
   "metadata": {},
   "outputs": [
    {
     "data": {
      "text/plain": [
       "[{'ResponseMetadata': {'RequestId': '5D4722C7599BF208',\n",
       "   'HostId': 'yzS0XnzBiYjdK5ip1qhWA9XeLWIkINkdDWQ9iegi6afFCIzPfs3R+5/VaMllrgpHep44vfvmNNw=',\n",
       "   'HTTPStatusCode': 200,\n",
       "   'HTTPHeaders': {'x-amz-id-2': 'yzS0XnzBiYjdK5ip1qhWA9XeLWIkINkdDWQ9iegi6afFCIzPfs3R+5/VaMllrgpHep44vfvmNNw=',\n",
       "    'x-amz-request-id': '5D4722C7599BF208',\n",
       "    'date': 'Fri, 18 Sep 2020 12:30:17 GMT',\n",
       "    'connection': 'close',\n",
       "    'content-type': 'application/xml',\n",
       "    'transfer-encoding': 'chunked',\n",
       "    'server': 'AmazonS3'},\n",
       "   'RetryAttempts': 0},\n",
       "  'Deleted': [{'Key': 'built-in-xgb/output/sagemaker-xgboost-2020-09-18-12-10-30-755/output/model.tar.gz'},\n",
       "   {'Key': 'built-in-xgb/train/train.csv'},\n",
       "   {'Key': 'built-in-xgb/test/test.csv'}]}]"
      ]
     },
     "execution_count": 35,
     "metadata": {},
     "output_type": "execute_result"
    }
   ],
   "source": [
    "#### deleting endpoints\n",
    "sagemaker.Session().delete_endpoint(xgb_predictor.endpoint)\n",
    "bucket_to_delete = boto3.resource('s3').Bucket(bucket_name)\n",
    "bucket_to_delete.objects.all().delete()"
   ]
  },
  {
   "cell_type": "code",
   "execution_count": null,
   "metadata": {},
   "outputs": [],
   "source": []
  }
 ],
 "metadata": {
  "kernelspec": {
   "display_name": "conda_python3",
   "language": "python",
   "name": "conda_python3"
  },
  "language_info": {
   "codemirror_mode": {
    "name": "ipython",
    "version": 3
   },
   "file_extension": ".py",
   "mimetype": "text/x-python",
   "name": "python",
   "nbconvert_exporter": "python",
   "pygments_lexer": "ipython3",
   "version": "3.6.10"
  }
 },
 "nbformat": 4,
 "nbformat_minor": 4
}
